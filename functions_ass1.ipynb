{
  "nbformat": 4,
  "nbformat_minor": 0,
  "metadata": {
    "colab": {
      "provenance": []
    },
    "kernelspec": {
      "name": "python3",
      "display_name": "Python 3"
    },
    "language_info": {
      "name": "python"
    }
  },
  "cells": [
    {
      "cell_type": "code",
      "execution_count": null,
      "metadata": {
        "colab": {
          "base_uri": "https://localhost:8080/"
        },
        "id": "8O-g7uF9g4BO",
        "outputId": "115b4150-257a-4eef-83b2-d47b170f6079"
      },
      "outputs": [
        {
          "output_type": "stream",
          "name": "stdout",
          "text": [
            "addition\n"
          ]
        }
      ],
      "source": [
        "def add():\n",
        "  print(\"addition\")\n",
        "add()"
      ]
    },
    {
      "cell_type": "code",
      "source": [
        "def add(a,b):\n",
        "  print(\"addition\",a+b)\n",
        "add(\"data\",str(20))\n"
      ],
      "metadata": {
        "colab": {
          "base_uri": "https://localhost:8080/"
        },
        "id": "LS4R-oW8jrBu",
        "outputId": "2208deec-6f2d-4d01-db2d-8fad8e8edbb0"
      },
      "execution_count": null,
      "outputs": [
        {
          "output_type": "stream",
          "name": "stdout",
          "text": [
            "addition data20\n"
          ]
        }
      ]
    },
    {
      "cell_type": "code",
      "source": [
        "def function1(a,b):\n",
        "  return a+b\n",
        "  print(\"test\")"
      ],
      "metadata": {
        "id": "lJhpG2TpklFg"
      },
      "execution_count": null,
      "outputs": []
    },
    {
      "cell_type": "code",
      "source": [
        "x=function1(10,20)\n",
        "x"
      ],
      "metadata": {
        "colab": {
          "base_uri": "https://localhost:8080/"
        },
        "id": "8OPEPj49mMxs",
        "outputId": "dc0c12cd-b3c2-4af5-f915-6d456c520b60"
      },
      "execution_count": null,
      "outputs": [
        {
          "output_type": "execute_result",
          "data": {
            "text/plain": [
              "30"
            ]
          },
          "metadata": {},
          "execution_count": 8
        }
      ]
    },
    {
      "cell_type": "code",
      "source": [
        "def function1(a,b):\n",
        "  print(a+b)\n"
      ],
      "metadata": {
        "id": "1IxRFB47m2BK"
      },
      "execution_count": null,
      "outputs": []
    },
    {
      "cell_type": "code",
      "source": [
        "x=function1(10,20)\n",
        "x"
      ],
      "metadata": {
        "colab": {
          "base_uri": "https://localhost:8080/"
        },
        "id": "6kkyz3_BnJAM",
        "outputId": "7cfaf67b-33d9-4870-c5cc-a076695eb1c3"
      },
      "execution_count": null,
      "outputs": [
        {
          "output_type": "stream",
          "name": "stdout",
          "text": [
            "30\n"
          ]
        }
      ]
    },
    {
      "cell_type": "code",
      "source": [
        "def even_or_odd(x):\n",
        "  if x%2==1:\n",
        "    return \"Even\"\n",
        "  else:\n",
        "    return \"Odd\"\n",
        "\n"
      ],
      "metadata": {
        "id": "J-BAZ_plnTsd"
      },
      "execution_count": null,
      "outputs": []
    },
    {
      "cell_type": "code",
      "source": [
        "even_or_odd(10)"
      ],
      "metadata": {
        "colab": {
          "base_uri": "https://localhost:8080/",
          "height": 36
        },
        "id": "xE5CZCNEp93n",
        "outputId": "650d6dec-6a1f-4d96-940c-d3de1bf85914"
      },
      "execution_count": null,
      "outputs": [
        {
          "output_type": "execute_result",
          "data": {
            "text/plain": [
              "'Odd'"
            ],
            "application/vnd.google.colaboratory.intrinsic+json": {
              "type": "string"
            }
          },
          "metadata": {},
          "execution_count": 30
        }
      ]
    },
    {
      "cell_type": "code",
      "source": [
        "def factorial(n):\n",
        "  result=1\n",
        "  for i in range(2,n+1):\n",
        "    result *=i\n",
        "  return result\n",
        "factorial(5)"
      ],
      "metadata": {
        "colab": {
          "base_uri": "https://localhost:8080/"
        },
        "id": "FZmiZuBVscwR",
        "outputId": "be78fdb6-4ea5-4daf-b084-2d35e32642ef"
      },
      "execution_count": null,
      "outputs": [
        {
          "output_type": "execute_result",
          "data": {
            "text/plain": [
              "120"
            ]
          },
          "metadata": {},
          "execution_count": 31
        }
      ]
    },
    {
      "cell_type": "code",
      "source": [
        "def x(a,b,c):\n",
        "  if a>=b and a>=c:\n",
        "    return a\n",
        "  elif b>=a and b>=c:\n",
        "    return b\n",
        "  else:\n",
        "    return c"
      ],
      "metadata": {
        "id": "qtvXl9hnvIKX"
      },
      "execution_count": null,
      "outputs": []
    },
    {
      "cell_type": "code",
      "source": [
        "x(10,20,30)"
      ],
      "metadata": {
        "colab": {
          "base_uri": "https://localhost:8080/"
        },
        "id": "_4kTR8LtvmQN",
        "outputId": "97734d7c-cb6f-4249-9afa-3f1ed3cf6395"
      },
      "execution_count": null,
      "outputs": [
        {
          "output_type": "execute_result",
          "data": {
            "text/plain": [
              "30"
            ]
          },
          "metadata": {},
          "execution_count": 33
        }
      ]
    },
    {
      "cell_type": "code",
      "source": [
        "def triangles_type(a,b,c):\n",
        "  if a==b==c:\n",
        "    return \"Equaleteral\"\n",
        "  elif a==b or b==c or c==a:\n",
        "    return \"isosceles\"\n",
        "  else:\n",
        "    return \"scales\"\n",
        "triangles_type(10,20,20)\n",
        "\n"
      ],
      "metadata": {
        "id": "NGMUla3d_eoB",
        "colab": {
          "base_uri": "https://localhost:8080/",
          "height": 36
        },
        "outputId": "337772e6-42a2-4a5b-b25a-d877e08829d2"
      },
      "execution_count": null,
      "outputs": [
        {
          "output_type": "execute_result",
          "data": {
            "text/plain": [
              "'isosceles'"
            ],
            "application/vnd.google.colaboratory.intrinsic+json": {
              "type": "string"
            }
          },
          "metadata": {},
          "execution_count": 17
        }
      ]
    },
    {
      "cell_type": "code",
      "source": [
        "def password_strength(pw):\n",
        "  if len(pw)<6:\n",
        "    return\"week\"\n",
        "  elif len(pw)>10:\n",
        "    return\"strong\"\n",
        "password_strength(\"test\")\n"
      ],
      "metadata": {
        "colab": {
          "base_uri": "https://localhost:8080/",
          "height": 36
        },
        "id": "wGYPIHMVxF26",
        "outputId": "5988c033-3823-4eb2-a432-0ce531b4ddb9"
      },
      "execution_count": null,
      "outputs": [
        {
          "output_type": "execute_result",
          "data": {
            "text/plain": [
              "'week'"
            ],
            "application/vnd.google.colaboratory.intrinsic+json": {
              "type": "string"
            }
          },
          "metadata": {},
          "execution_count": 18
        }
      ]
    },
    {
      "cell_type": "code",
      "source": [
        "def f1(x):\n",
        "  def f2():\n",
        "    return \"Function 2\"\n",
        "  def f3():\n",
        "    return \"Function 3\"\n",
        "  if x==2:\n",
        "    return f2()\n",
        "  else:\n",
        "    return f3()"
      ],
      "metadata": {
        "id": "OCXtW4vTv4vQ"
      },
      "execution_count": null,
      "outputs": []
    },
    {
      "cell_type": "code",
      "source": [],
      "metadata": {
        "id": "lbJ8psVnx-Xe"
      },
      "execution_count": null,
      "outputs": []
    }
  ]
}
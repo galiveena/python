{
  "nbformat": 4,
  "nbformat_minor": 0,
  "metadata": {
    "colab": {
      "provenance": []
    },
    "kernelspec": {
      "name": "python3",
      "display_name": "Python 3"
    },
    "language_info": {
      "name": "python"
    }
  },
  "cells": [
    {
      "cell_type": "code",
      "execution_count": null,
      "metadata": {
        "id": "7tCyh5AChP0H"
      },
      "outputs": [],
      "source": [
        "import numpy as np"
      ]
    },
    {
      "cell_type": "code",
      "source": [
        "list(),tuple(),set(),dict()"
      ],
      "metadata": {
        "colab": {
          "base_uri": "https://localhost:8080/"
        },
        "id": "_YQf_u2ShbWV",
        "outputId": "2ea1a6f0-d540-47b3-819f-51d93c1cd3e9"
      },
      "execution_count": null,
      "outputs": [
        {
          "output_type": "execute_result",
          "data": {
            "text/plain": [
              "([], (), set(), {})"
            ]
          },
          "metadata": {},
          "execution_count": 3
        }
      ]
    },
    {
      "cell_type": "code",
      "source": [
        "x=[1,3,5,\"data engineering\"]"
      ],
      "metadata": {
        "id": "Tos3o7ZvhpFP"
      },
      "execution_count": null,
      "outputs": []
    },
    {
      "cell_type": "code",
      "source": [
        "x"
      ],
      "metadata": {
        "colab": {
          "base_uri": "https://localhost:8080/"
        },
        "id": "cn8_3JlQiFlP",
        "outputId": "accd542c-38b9-43da-b082-f5140f335762"
      },
      "execution_count": null,
      "outputs": [
        {
          "output_type": "execute_result",
          "data": {
            "text/plain": [
              "[1, 3, 5, 'data engineering']"
            ]
          },
          "metadata": {},
          "execution_count": 6
        }
      ]
    },
    {
      "cell_type": "code",
      "source": [
        "type(x[0]),type(x[1]),type(x[2]),type(x[3])"
      ],
      "metadata": {
        "colab": {
          "base_uri": "https://localhost:8080/"
        },
        "id": "01B6jjv_iJx-",
        "outputId": "2fa3a1dd-4d3b-46d5-9912-969882f42284"
      },
      "execution_count": null,
      "outputs": [
        {
          "output_type": "execute_result",
          "data": {
            "text/plain": [
              "(int, int, int, str)"
            ]
          },
          "metadata": {},
          "execution_count": 8
        }
      ]
    },
    {
      "cell_type": "code",
      "source": [
        "for i in range(1,10):\n",
        "  print(np.random.randint(0,10))"
      ],
      "metadata": {
        "colab": {
          "base_uri": "https://localhost:8080/"
        },
        "id": "9RcBmuS3imM3",
        "outputId": "9da13cee-c0e0-4076-c051-69f78d2f559f"
      },
      "execution_count": null,
      "outputs": [
        {
          "output_type": "stream",
          "name": "stdout",
          "text": [
            "4\n",
            "4\n",
            "0\n",
            "6\n",
            "1\n",
            "4\n",
            "6\n",
            "2\n",
            "6\n"
          ]
        }
      ]
    },
    {
      "cell_type": "code",
      "source": [
        "data=np.random.randint(0,10,(6,6))"
      ],
      "metadata": {
        "id": "6CjqGfR-jnwu"
      },
      "execution_count": null,
      "outputs": []
    },
    {
      "cell_type": "code",
      "source": [
        "data"
      ],
      "metadata": {
        "colab": {
          "base_uri": "https://localhost:8080/"
        },
        "id": "9NXen_rdkl9f",
        "outputId": "6d52a58c-f98f-4234-a09e-bfbb36e73611"
      },
      "execution_count": null,
      "outputs": [
        {
          "output_type": "execute_result",
          "data": {
            "text/plain": [
              "array([[4, 4, 5, 7, 8, 0],\n",
              "       [0, 7, 8, 1, 5, 4],\n",
              "       [0, 5, 0, 3, 4, 9],\n",
              "       [2, 0, 2, 2, 9, 8],\n",
              "       [5, 9, 5, 2, 4, 8],\n",
              "       [7, 0, 2, 4, 4, 4]])"
            ]
          },
          "metadata": {},
          "execution_count": 21
        }
      ]
    },
    {
      "cell_type": "code",
      "source": [
        "data[0:3,5:]"
      ],
      "metadata": {
        "colab": {
          "base_uri": "https://localhost:8080/"
        },
        "id": "_dAAZEz5kpsg",
        "outputId": "c4ce04f0-246b-4fda-ea38-495e00b6da8e"
      },
      "execution_count": null,
      "outputs": [
        {
          "output_type": "execute_result",
          "data": {
            "text/plain": [
              "array([[0],\n",
              "       [4],\n",
              "       [9]])"
            ]
          },
          "metadata": {},
          "execution_count": 28
        }
      ]
    },
    {
      "cell_type": "code",
      "source": [
        "data"
      ],
      "metadata": {
        "colab": {
          "base_uri": "https://localhost:8080/"
        },
        "id": "IHA17t-Hlq6N",
        "outputId": "02754ef0-af6c-4784-eae5-2f50a1d7dd2f"
      },
      "execution_count": null,
      "outputs": [
        {
          "output_type": "execute_result",
          "data": {
            "text/plain": [
              "array([[4, 4, 5, 7, 8, 0],\n",
              "       [0, 7, 8, 1, 5, 4],\n",
              "       [0, 5, 0, 3, 4, 9],\n",
              "       [2, 0, 2, 2, 9, 8],\n",
              "       [5, 9, 5, 2, 4, 8],\n",
              "       [7, 0, 2, 4, 4, 4]])"
            ]
          },
          "metadata": {},
          "execution_count": 33
        }
      ]
    },
    {
      "cell_type": "code",
      "source": [
        "data[-6:4,-6:4]"
      ],
      "metadata": {
        "colab": {
          "base_uri": "https://localhost:8080/"
        },
        "id": "JdCfFWJiluel",
        "outputId": "4ffe9f02-7b7b-49a1-e87a-21ffa8e801e0"
      },
      "execution_count": null,
      "outputs": [
        {
          "output_type": "execute_result",
          "data": {
            "text/plain": [
              "array([[4, 4, 5, 7],\n",
              "       [0, 7, 8, 1],\n",
              "       [0, 5, 0, 3],\n",
              "       [2, 0, 2, 2]])"
            ]
          },
          "metadata": {},
          "execution_count": 38
        }
      ]
    },
    {
      "cell_type": "code",
      "source": [
        "data[-3:3,-3:3]"
      ],
      "metadata": {
        "colab": {
          "base_uri": "https://localhost:8080/"
        },
        "id": "udSyhmg1nfeg",
        "outputId": "e8911d31-fe71-41bc-bb0b-0ccd3cd60a0e"
      },
      "execution_count": null,
      "outputs": [
        {
          "output_type": "execute_result",
          "data": {
            "text/plain": [
              "array([], shape=(0, 0), dtype=int64)"
            ]
          },
          "metadata": {},
          "execution_count": 39
        }
      ]
    },
    {
      "cell_type": "code",
      "source": [
        "data=np.random.randint(0,100,(6,6))"
      ],
      "metadata": {
        "id": "u10JrYsp02j4"
      },
      "execution_count": null,
      "outputs": []
    },
    {
      "cell_type": "code",
      "source": [
        "data"
      ],
      "metadata": {
        "colab": {
          "base_uri": "https://localhost:8080/"
        },
        "id": "_VqvAUmin4bN",
        "outputId": "e4afa17f-e052-416c-b540-27b0675adb43"
      },
      "execution_count": null,
      "outputs": [
        {
          "output_type": "execute_result",
          "data": {
            "text/plain": [
              "array([[ 1, 74, 49,  1, 54,  0],\n",
              "       [45, 12, 86, 37, 52, 26],\n",
              "       [50, 25, 57, 71,  1, 54],\n",
              "       [85, 32, 92, 38, 12, 43],\n",
              "       [68, 44, 71, 81, 99, 49],\n",
              "       [90, 79, 39, 18, 36, 22]])"
            ]
          },
          "metadata": {},
          "execution_count": 50
        }
      ]
    },
    {
      "cell_type": "code",
      "source": [
        "data[-6:-4,-6:-4]"
      ],
      "metadata": {
        "colab": {
          "base_uri": "https://localhost:8080/"
        },
        "id": "qSpbTk1sof22",
        "outputId": "53121752-fdc1-4436-d610-c361d170f680"
      },
      "execution_count": null,
      "outputs": [
        {
          "output_type": "execute_result",
          "data": {
            "text/plain": [
              "array([[ 1, 74],\n",
              "       [45, 12]])"
            ]
          },
          "metadata": {},
          "execution_count": 52
        }
      ]
    },
    {
      "cell_type": "code",
      "source": [
        "data[3:6,2:4]"
      ],
      "metadata": {
        "colab": {
          "base_uri": "https://localhost:8080/"
        },
        "id": "biWBINf1pNrd",
        "outputId": "987972f0-0a4e-45c0-cbbe-9a0e3172af09"
      },
      "execution_count": null,
      "outputs": [
        {
          "output_type": "execute_result",
          "data": {
            "text/plain": [
              "array([[92, 38],\n",
              "       [71, 81],\n",
              "       [39, 18]])"
            ]
          },
          "metadata": {},
          "execution_count": 53
        }
      ]
    },
    {
      "cell_type": "code",
      "source": [
        "data[-3:-1,-3:-1]"
      ],
      "metadata": {
        "colab": {
          "base_uri": "https://localhost:8080/"
        },
        "id": "-9lh7vmpqvUz",
        "outputId": "407a5f81-ad1e-44a4-f937-2cf579ad39b1"
      },
      "execution_count": null,
      "outputs": [
        {
          "output_type": "execute_result",
          "data": {
            "text/plain": [
              "array([[38, 12],\n",
              "       [81, 99]])"
            ]
          },
          "metadata": {},
          "execution_count": 54
        }
      ]
    },
    {
      "cell_type": "code",
      "source": [
        "data"
      ],
      "metadata": {
        "colab": {
          "base_uri": "https://localhost:8080/"
        },
        "id": "UkzIiBMsrYZF",
        "outputId": "72127e8d-59a8-4e26-b987-cfb0acaf72b7"
      },
      "execution_count": null,
      "outputs": [
        {
          "output_type": "execute_result",
          "data": {
            "text/plain": [
              "array([[ 1, 74, 49,  1, 54,  0],\n",
              "       [45, 12, 86, 37, 52, 26],\n",
              "       [50, 25, 57, 71,  1, 54],\n",
              "       [85, 32, 92, 38, 12, 43],\n",
              "       [68, 44, 71, 81, 99, 49],\n",
              "       [90, 79, 39, 18, 36, 22]])"
            ]
          },
          "metadata": {},
          "execution_count": 60
        }
      ]
    },
    {
      "cell_type": "code",
      "source": [
        "data.shape"
      ],
      "metadata": {
        "colab": {
          "base_uri": "https://localhost:8080/"
        },
        "id": "N1nIme4_r2hQ",
        "outputId": "9899a355-3556-4a54-85d1-5dab8ee3bf46"
      },
      "execution_count": null,
      "outputs": [
        {
          "output_type": "execute_result",
          "data": {
            "text/plain": [
              "(6, 6)"
            ]
          },
          "metadata": {},
          "execution_count": 62
        }
      ]
    },
    {
      "cell_type": "code",
      "source": [
        "data.size"
      ],
      "metadata": {
        "colab": {
          "base_uri": "https://localhost:8080/"
        },
        "id": "LpUpQZ7Wr-du",
        "outputId": "a8979280-d4cc-4c2a-c1c9-55f99d2a8bd4"
      },
      "execution_count": null,
      "outputs": [
        {
          "output_type": "execute_result",
          "data": {
            "text/plain": [
              "36"
            ]
          },
          "metadata": {},
          "execution_count": 63
        }
      ]
    },
    {
      "cell_type": "code",
      "source": [
        "data.T"
      ],
      "metadata": {
        "colab": {
          "base_uri": "https://localhost:8080/"
        },
        "id": "8x_jTe7LsCui",
        "outputId": "1293ffb7-3e03-41a9-8b90-398237fad895"
      },
      "execution_count": null,
      "outputs": [
        {
          "output_type": "execute_result",
          "data": {
            "text/plain": [
              "array([[ 1, 45, 50, 85, 68, 90],\n",
              "       [74, 12, 25, 32, 44, 79],\n",
              "       [49, 86, 57, 92, 71, 39],\n",
              "       [ 1, 37, 71, 38, 81, 18],\n",
              "       [54, 52,  1, 12, 99, 36],\n",
              "       [ 0, 26, 54, 43, 49, 22]])"
            ]
          },
          "metadata": {},
          "execution_count": 64
        }
      ]
    },
    {
      "cell_type": "code",
      "source": [
        "data**2"
      ],
      "metadata": {
        "colab": {
          "base_uri": "https://localhost:8080/"
        },
        "id": "8HcAVHdxsVfk",
        "outputId": "a9f8b2a6-6e6a-4051-f743-cbd0e488d250"
      },
      "execution_count": null,
      "outputs": [
        {
          "output_type": "execute_result",
          "data": {
            "text/plain": [
              "array([[   1, 5476, 2401,    1, 2916,    0],\n",
              "       [2025,  144, 7396, 1369, 2704,  676],\n",
              "       [2500,  625, 3249, 5041,    1, 2916],\n",
              "       [7225, 1024, 8464, 1444,  144, 1849],\n",
              "       [4624, 1936, 5041, 6561, 9801, 2401],\n",
              "       [8100, 6241, 1521,  324, 1296,  484]])"
            ]
          },
          "metadata": {},
          "execution_count": 65
        }
      ]
    },
    {
      "cell_type": "code",
      "source": [
        "data/2"
      ],
      "metadata": {
        "colab": {
          "base_uri": "https://localhost:8080/"
        },
        "id": "5S0_yLcIshGY",
        "outputId": "c82695c9-5ff3-40e0-c158-ab7e03326044"
      },
      "execution_count": null,
      "outputs": [
        {
          "output_type": "execute_result",
          "data": {
            "text/plain": [
              "array([[ 0.5, 37. , 24.5,  0.5, 27. ,  0. ],\n",
              "       [22.5,  6. , 43. , 18.5, 26. , 13. ],\n",
              "       [25. , 12.5, 28.5, 35.5,  0.5, 27. ],\n",
              "       [42.5, 16. , 46. , 19. ,  6. , 21.5],\n",
              "       [34. , 22. , 35.5, 40.5, 49.5, 24.5],\n",
              "       [45. , 39.5, 19.5,  9. , 18. , 11. ]])"
            ]
          },
          "metadata": {},
          "execution_count": 66
        }
      ]
    },
    {
      "cell_type": "code",
      "source": [
        "data//2"
      ],
      "metadata": {
        "colab": {
          "base_uri": "https://localhost:8080/"
        },
        "id": "ihCz8a_Tsl-h",
        "outputId": "c3324a67-22dd-4b2c-effa-08b9fa7da41b"
      },
      "execution_count": null,
      "outputs": [
        {
          "output_type": "execute_result",
          "data": {
            "text/plain": [
              "array([[ 0, 37, 24,  0, 27,  0],\n",
              "       [22,  6, 43, 18, 26, 13],\n",
              "       [25, 12, 28, 35,  0, 27],\n",
              "       [42, 16, 46, 19,  6, 21],\n",
              "       [34, 22, 35, 40, 49, 24],\n",
              "       [45, 39, 19,  9, 18, 11]])"
            ]
          },
          "metadata": {},
          "execution_count": 67
        }
      ]
    },
    {
      "cell_type": "code",
      "source": [
        "data*2"
      ],
      "metadata": {
        "colab": {
          "base_uri": "https://localhost:8080/"
        },
        "id": "SrR1xH09st1v",
        "outputId": "95cff5e3-330a-4fff-8133-f234bec1070a"
      },
      "execution_count": null,
      "outputs": [
        {
          "output_type": "execute_result",
          "data": {
            "text/plain": [
              "array([[  2, 148,  98,   2, 108,   0],\n",
              "       [ 90,  24, 172,  74, 104,  52],\n",
              "       [100,  50, 114, 142,   2, 108],\n",
              "       [170,  64, 184,  76,  24,  86],\n",
              "       [136,  88, 142, 162, 198,  98],\n",
              "       [180, 158,  78,  36,  72,  44]])"
            ]
          },
          "metadata": {},
          "execution_count": 68
        }
      ]
    },
    {
      "cell_type": "code",
      "source": [
        "import numpy as np"
      ],
      "metadata": {
        "id": "aDRDMSvKqI2-"
      },
      "execution_count": null,
      "outputs": []
    },
    {
      "cell_type": "code",
      "source": [
        "data=np.random.randint(1,0,(4,5))"
      ],
      "metadata": {
        "colab": {
          "base_uri": "https://localhost:8080/",
          "height": 219
        },
        "id": "hoOHNdn2qNKa",
        "outputId": "fd36d387-55d5-42d8-ac05-80c54870b61d"
      },
      "execution_count": null,
      "outputs": [
        {
          "output_type": "error",
          "ename": "ValueError",
          "evalue": "low >= high",
          "traceback": [
            "\u001b[0;31m---------------------------------------------------------------------------\u001b[0m",
            "\u001b[0;31mValueError\u001b[0m                                Traceback (most recent call last)",
            "\u001b[0;32m<ipython-input-6-be8ee3e7da43>\u001b[0m in \u001b[0;36m<cell line: 0>\u001b[0;34m()\u001b[0m\n\u001b[0;32m----> 1\u001b[0;31m \u001b[0mdata\u001b[0m\u001b[0;34m=\u001b[0m\u001b[0mnp\u001b[0m\u001b[0;34m.\u001b[0m\u001b[0mrandom\u001b[0m\u001b[0;34m.\u001b[0m\u001b[0mrandint\u001b[0m\u001b[0;34m(\u001b[0m\u001b[0;36m1\u001b[0m\u001b[0;34m,\u001b[0m\u001b[0;36m0\u001b[0m\u001b[0;34m,\u001b[0m\u001b[0;34m(\u001b[0m\u001b[0;36m4\u001b[0m\u001b[0;34m,\u001b[0m\u001b[0;36m5\u001b[0m\u001b[0;34m)\u001b[0m\u001b[0;34m)\u001b[0m\u001b[0;34m\u001b[0m\u001b[0;34m\u001b[0m\u001b[0m\n\u001b[0m",
            "\u001b[0;32mnumpy/random/mtrand.pyx\u001b[0m in \u001b[0;36mnumpy.random.mtrand.RandomState.randint\u001b[0;34m()\u001b[0m\n",
            "\u001b[0;32mnumpy/random/_bounded_integers.pyx\u001b[0m in \u001b[0;36mnumpy.random._bounded_integers._rand_int64\u001b[0;34m()\u001b[0m\n",
            "\u001b[0;31mValueError\u001b[0m: low >= high"
          ]
        }
      ]
    }
  ]
}